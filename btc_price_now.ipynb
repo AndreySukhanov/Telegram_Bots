{
  "nbformat": 4,
  "nbformat_minor": 0,
  "metadata": {
    "colab": {
      "provenance": [],
      "mount_file_id": "1-GeSsYPICTWQm1PNq1tr4-IcoDG-_1pV",
      "authorship_tag": "ABX9TyP6QPbtF+S76UFlU02pZuZw",
      "include_colab_link": true
    },
    "kernelspec": {
      "name": "python3",
      "display_name": "Python 3"
    },
    "language_info": {
      "name": "python"
    }
  },
  "cells": [
    {
      "cell_type": "markdown",
      "metadata": {
        "id": "view-in-github",
        "colab_type": "text"
      },
      "source": [
        "<a href=\"https://colab.research.google.com/github/AndreySukhanov/Telegram_Bots/blob/main/btc_price_now.ipynb\" target=\"_parent\"><img src=\"https://colab.research.google.com/assets/colab-badge.svg\" alt=\"Open In Colab\"/></a>"
      ]
    },
    {
      "cell_type": "code",
      "execution_count": null,
      "metadata": {
        "id": "Vgrgz4VSDug2"
      },
      "outputs": [],
      "source": [
        "!pip install pyTelegramBotAPI\n",
        "!pip install requests\n",
        "!pip install datetime"
      ]
    },
    {
      "cell_type": "code",
      "source": [
        "import telebot\n",
        "from telebot import types\n",
        "import requests\n",
        "from datetime import datetime"
      ],
      "metadata": {
        "id": "tlbCAQ5PXy02"
      },
      "execution_count": null,
      "outputs": []
    },
    {
      "cell_type": "code",
      "source": [
        "def get_data():\n",
        "  req = requests.get('https://yobit.net/api/3/ticker/btc_usd')\n",
        "  response = req.json()\n",
        "  sell_price=response['btc_usd']['sell']\n",
        "  print(f\"{datetime.now().strftime('%Y-%m-%d %H:%M')}\\nSell BTC price: {sell_price}\")\n"
      ],
      "metadata": {
        "id": "z2XGjxrv1fDT"
      },
      "execution_count": null,
      "outputs": []
    },
    {
      "cell_type": "code",
      "source": [
        "# Команда - /website\n",
        "@bot.message_handler(commands=['start'])\n",
        "def start(message):\n",
        "    bot.send_message(message.chat.id, \"Hello friend! Write the 'price' to find out the cost of BTC!\")\n",
        "\n",
        "@bot.message_handler(content_types=['text'])   \n",
        "def send_text(message):\n",
        "    if message.text.lower() == 'price':\n",
        "        try:\n",
        "            req = requests.get('https://yobit.net/api/3/ticker/btc_usd')\n",
        "            response = req.json()\n",
        "            sell_price=response['btc_usd']['sell']\n",
        "            bot.send_message(\n",
        "                message.chat.id, \n",
        "                f\"{datetime.now().strftime('%Y-%m-%d %H:%M')}\\nSell BTC price: {sell_price}\"\n",
        "            )\n",
        "        except Exception as ex:\n",
        "            print(ex)\n",
        "            bot.send_message(\n",
        "            message.chat.id,\n",
        "            \"Damn... Something a wrong...\"\n",
        "        )\n",
        "\n",
        "    else:\n",
        "        bot.send_message(message.chat.id, 'Whaaaat??? Check the command dude!')"
      ],
      "metadata": {
        "id": "7h8Y9HhjkZE9"
      },
      "execution_count": null,
      "outputs": []
    },
    {
      "cell_type": "code",
      "source": [
        "bot.polling(none_stop=True)"
      ],
      "metadata": {
        "id": "_fYP2LcCB9qG"
      },
      "execution_count": null,
      "outputs": []
    },
    {
      "cell_type": "code",
      "source": [
        "if __name__ == '__main__':\n",
        "    bot = telebot.TeleBot(\"your_token_for_bot\")\n",
        "   "
      ],
      "metadata": {
        "id": "CNKDwPZw2Zp5"
      },
      "execution_count": null,
      "outputs": []
    }
  ]
}
