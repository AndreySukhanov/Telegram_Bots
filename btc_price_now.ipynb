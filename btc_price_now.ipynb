{
  "nbformat": 4,
  "nbformat_minor": 0,
  "metadata": {
    "colab": {
      "provenance": [],
      "mount_file_id": "1-GeSsYPICTWQm1PNq1tr4-IcoDG-_1pV",
      "authorship_tag": "ABX9TyP6QPbtF+S76UFlU02pZuZw",
      "include_colab_link": true
    },
    "kernelspec": {
      "name": "python3",
      "display_name": "Python 3"
    },
    "language_info": {
      "name": "python"
    }
  },
  "cells": [
    {
      "cell_type": "markdown",
      "metadata": {
        "id": "view-in-github",
        "colab_type": "text"
      },
      "source": [
        "<a href=\"https://colab.research.google.com/github/AndreySukhanov/Telegram_Bots/blob/main/btc_price_now.ipynb\" target=\"_parent\"><img src=\"https://colab.research.google.com/assets/colab-badge.svg\" alt=\"Open In Colab\"/></a>"
      ]
    },
    {
      "cell_type": "code",
      "execution_count": 110,
      "metadata": {
        "id": "Vgrgz4VSDug2",
        "colab": {
          "base_uri": "https://localhost:8080/"
        },
        "outputId": "7139fe68-7e71-4138-b1c0-752bee21c3b3"
      },
      "outputs": [
        {
          "output_type": "stream",
          "name": "stdout",
          "text": [
            "Looking in indexes: https://pypi.org/simple, https://us-python.pkg.dev/colab-wheels/public/simple/\n",
            "Requirement already satisfied: pyTelegramBotAPI in /usr/local/lib/python3.8/dist-packages (4.9.0)\n",
            "Requirement already satisfied: requests in /usr/local/lib/python3.8/dist-packages (from pyTelegramBotAPI) (2.25.1)\n",
            "Requirement already satisfied: urllib3<1.27,>=1.21.1 in /usr/local/lib/python3.8/dist-packages (from requests->pyTelegramBotAPI) (1.24.3)\n",
            "Requirement already satisfied: chardet<5,>=3.0.2 in /usr/local/lib/python3.8/dist-packages (from requests->pyTelegramBotAPI) (4.0.0)\n",
            "Requirement already satisfied: certifi>=2017.4.17 in /usr/local/lib/python3.8/dist-packages (from requests->pyTelegramBotAPI) (2022.12.7)\n",
            "Requirement already satisfied: idna<3,>=2.5 in /usr/local/lib/python3.8/dist-packages (from requests->pyTelegramBotAPI) (2.10)\n",
            "Looking in indexes: https://pypi.org/simple, https://us-python.pkg.dev/colab-wheels/public/simple/\n",
            "Requirement already satisfied: requests in /usr/local/lib/python3.8/dist-packages (2.25.1)\n",
            "Requirement already satisfied: certifi>=2017.4.17 in /usr/local/lib/python3.8/dist-packages (from requests) (2022.12.7)\n",
            "Requirement already satisfied: idna<3,>=2.5 in /usr/local/lib/python3.8/dist-packages (from requests) (2.10)\n",
            "Requirement already satisfied: chardet<5,>=3.0.2 in /usr/local/lib/python3.8/dist-packages (from requests) (4.0.0)\n",
            "Requirement already satisfied: urllib3<1.27,>=1.21.1 in /usr/local/lib/python3.8/dist-packages (from requests) (1.24.3)\n",
            "Looking in indexes: https://pypi.org/simple, https://us-python.pkg.dev/colab-wheels/public/simple/\n",
            "Requirement already satisfied: datetime in /usr/local/lib/python3.8/dist-packages (5.0)\n",
            "Requirement already satisfied: zope.interface in /usr/local/lib/python3.8/dist-packages (from datetime) (5.5.2)\n",
            "Requirement already satisfied: pytz in /usr/local/lib/python3.8/dist-packages (from datetime) (2022.7)\n",
            "Requirement already satisfied: setuptools in /usr/local/lib/python3.8/dist-packages (from zope.interface->datetime) (57.4.0)\n"
          ]
        }
      ],
      "source": [
        "!pip install pyTelegramBotAPI\n",
        "!pip install requests\n",
        "!pip install datetime"
      ]
    },
    {
      "cell_type": "code",
      "source": [
        "import telebot\n",
        "from telebot import types\n",
        "import requests\n",
        "from datetime import datetime"
      ],
      "metadata": {
        "id": "tlbCAQ5PXy02"
      },
      "execution_count": 111,
      "outputs": []
    },
    {
      "cell_type": "code",
      "source": [
        "def get_data():\n",
        "  req = requests.get('https://yobit.net/api/3/ticker/btc_usd')\n",
        "  response = req.json()\n",
        "  sell_price=response['btc_usd']['sell']\n",
        "  print(f\"{datetime.now().strftime('%Y-%m-%d %H:%M')}\\nSell BTC price: {sell_price}\")\n"
      ],
      "metadata": {
        "id": "z2XGjxrv1fDT"
      },
      "execution_count": 112,
      "outputs": []
    },
    {
      "cell_type": "code",
      "source": [
        "# Команда - /website\n",
        "@bot.message_handler(commands=['start'])\n",
        "def start(message):\n",
        "    bot.send_message(message.chat.id, \"Hello friend! Write the 'price' to find out the cost of BTC!\")\n",
        "\n",
        "@bot.message_handler(content_types=['text'])   \n",
        "def send_text(message):\n",
        "    if message.text.lower() == 'price':\n",
        "        try:\n",
        "            req = requests.get('https://yobit.net/api/3/ticker/btc_usd')\n",
        "            response = req.json()\n",
        "            sell_price=response['btc_usd']['sell']\n",
        "            bot.send_message(\n",
        "                message.chat.id, \n",
        "                f\"{datetime.now().strftime('%Y-%m-%d %H:%M')}\\nSell BTC price: {sell_price}\"\n",
        "            )\n",
        "        except Exception as ex:\n",
        "            print(ex)\n",
        "            bot.send_message(\n",
        "            message.chat.id,\n",
        "            \"Damn... Something a wrong...\"\n",
        "        )\n",
        "\n",
        "    else:\n",
        "        bot.send_message(message.chat.id, 'Whaaaat??? Check the command dude!')"
      ],
      "metadata": {
        "id": "7h8Y9HhjkZE9"
      },
      "execution_count": 113,
      "outputs": []
    },
    {
      "cell_type": "code",
      "source": [
        "bot.polling(none_stop=True)"
      ],
      "metadata": {
        "id": "_fYP2LcCB9qG"
      },
      "execution_count": 114,
      "outputs": []
    },
    {
      "cell_type": "code",
      "source": [
        "if __name__ == '__main__':\n",
        "    bot = telebot.TeleBot(\"5817557907:AAHPasIZN_TVSVggTAJpjU8zfwQ4sfoYURw\")\n",
        "   "
      ],
      "metadata": {
        "id": "CNKDwPZw2Zp5"
      },
      "execution_count": 115,
      "outputs": []
    }
  ]
}